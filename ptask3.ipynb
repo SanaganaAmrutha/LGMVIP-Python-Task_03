{
 "cells": [
  {
   "cell_type": "code",
   "execution_count": 1,
   "id": "5c1e50ed-6764-4662-8855-5a57112d75eb",
   "metadata": {
    "tags": []
   },
   "outputs": [],
   "source": [
    "import random\n",
    "\n"
   ]
  },
  {
   "cell_type": "code",
   "execution_count": 2,
   "id": "864fb895-5cf1-4b90-964b-a731d12ea4ba",
   "metadata": {
    "tags": []
   },
   "outputs": [],
   "source": [
    "def get_player_choice():\n",
    "    # Simulate getting player's choice\n",
    "    return input(\"Enter your choice (rock/paper/scissors): \").lower()\n",
    "\n",
    "def generate_computer_choice():\n",
    "    # Generate computer's choice\n",
    "    choices = ['rock', 'paper', 'scissors']\n",
    "    return random.choice(choices)\n",
    "\n",
    "def determine_winner(player_choice, computer_choice):\n",
    "    # Determine the winner\n",
    "    if player_choice == computer_choice:\n",
    "        return \"It's a tie!\"\n",
    "    if (player_choice == 'rock' and computer_choice == 'scissors') or \\\n",
    "       (player_choice == 'paper' and computer_choice == 'rock') or \\\n",
    "       (player_choice == 'scissors' and computer_choice == 'paper'):\n",
    "        return \"Player wins!\"\n",
    "    else:\n",
    "        return \"Computer wins!\"\n"
   ]
  },
  {
   "cell_type": "code",
   "execution_count": 3,
   "id": "5da0793b-2428-43ef-85ab-5b835348eead",
   "metadata": {
    "tags": []
   },
   "outputs": [
    {
     "name": "stdout",
     "output_type": "stream",
     "text": [
      "Let's play Rock-Paper-Scissors!\n"
     ]
    },
    {
     "name": "stdin",
     "output_type": "stream",
     "text": [
      "Enter your choice (rock/paper/scissors):  rock\n"
     ]
    },
    {
     "name": "stdout",
     "output_type": "stream",
     "text": [
      "Player wins!\n"
     ]
    }
   ],
   "source": [
    "print(\"Let's play Rock-Paper-Scissors!\")\n",
    "computer_choice = generate_computer_choice()\n",
    "player_choice = get_player_choice()\n",
    "result = determine_winner(player_choice, computer_choice)\n",
    "print(result)\n"
   ]
  },
  {
   "cell_type": "code",
   "execution_count": null,
   "id": "0398cd65-734f-41aa-bdf7-b25144904c48",
   "metadata": {},
   "outputs": [],
   "source": []
  }
 ],
 "metadata": {
  "kernelspec": {
   "display_name": "Python 3 (ipykernel)",
   "language": "python",
   "name": "python3"
  },
  "language_info": {
   "codemirror_mode": {
    "name": "ipython",
    "version": 3
   },
   "file_extension": ".py",
   "mimetype": "text/x-python",
   "name": "python",
   "nbconvert_exporter": "python",
   "pygments_lexer": "ipython3",
   "version": "3.11.5"
  }
 },
 "nbformat": 4,
 "nbformat_minor": 5
}
